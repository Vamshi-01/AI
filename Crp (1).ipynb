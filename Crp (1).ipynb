{
 "cells": [
  {
   "cell_type": "code",
   "execution_count": 1,
   "metadata": {},
   "outputs": [],
   "source": [
    "import pandas as pd\n",
    "import numpy as np\n",
    "from sklearn.model_selection import train_test_split\n",
    "import math\n",
    "from sklearn.metrics import mean_squared_error \n",
    "from sklearn.metrics import mean_absolute_error\n",
    "\n",
    "import warnings\n",
    "warnings.filterwarnings('ignore')"
   ]
  },
  {
   "cell_type": "code",
   "execution_count": 2,
   "metadata": {},
   "outputs": [
    {
     "data": {
      "text/html": [
       "<div>\n",
       "<style scoped>\n",
       "    .dataframe tbody tr th:only-of-type {\n",
       "        vertical-align: middle;\n",
       "    }\n",
       "\n",
       "    .dataframe tbody tr th {\n",
       "        vertical-align: top;\n",
       "    }\n",
       "\n",
       "    .dataframe thead th {\n",
       "        text-align: right;\n",
       "    }\n",
       "</style>\n",
       "<table border=\"1\" class=\"dataframe\">\n",
       "  <thead>\n",
       "    <tr style=\"text-align: right;\">\n",
       "      <th></th>\n",
       "      <th>End Date</th>\n",
       "      <th>USD/INR</th>\n",
       "      <th>USD/PKR</th>\n",
       "      <th>USD/CNY</th>\n",
       "      <th>USD/KWD</th>\n",
       "      <th>USD/AED</th>\n",
       "      <th>USD/LKR</th>\n",
       "      <th>USD/CHF</th>\n",
       "      <th>USD/EUR</th>\n",
       "      <th>USD/ALL</th>\n",
       "      <th>...</th>\n",
       "      <th>USD/BMD</th>\n",
       "      <th>USD/BTN</th>\n",
       "      <th>USD/BOB</th>\n",
       "      <th>USD/BAM</th>\n",
       "      <th>USD/BWP</th>\n",
       "      <th>USD/BRL</th>\n",
       "      <th>USD/BND</th>\n",
       "      <th>USD/BGN</th>\n",
       "      <th>USD/BIF</th>\n",
       "      <th>USD/CVE</th>\n",
       "    </tr>\n",
       "  </thead>\n",
       "  <tbody>\n",
       "    <tr>\n",
       "      <th>0</th>\n",
       "      <td>01-01-2001</td>\n",
       "      <td>46.665</td>\n",
       "      <td>57.85</td>\n",
       "      <td>8.27782</td>\n",
       "      <td>0.305600</td>\n",
       "      <td>3.673</td>\n",
       "      <td>82.840</td>\n",
       "      <td>1.61080</td>\n",
       "      <td>1.06159</td>\n",
       "      <td>142.45</td>\n",
       "      <td>...</td>\n",
       "      <td>0.985149</td>\n",
       "      <td>46.6808</td>\n",
       "      <td>6.375</td>\n",
       "      <td>1.62173</td>\n",
       "      <td>5.36482</td>\n",
       "      <td>1.95000</td>\n",
       "      <td>1.7323</td>\n",
       "      <td>2.05875</td>\n",
       "      <td>734.067</td>\n",
       "      <td>118.514</td>\n",
       "    </tr>\n",
       "    <tr>\n",
       "      <th>1</th>\n",
       "      <td>02-01-2001</td>\n",
       "      <td>46.690</td>\n",
       "      <td>58.65</td>\n",
       "      <td>8.27831</td>\n",
       "      <td>0.304877</td>\n",
       "      <td>3.673</td>\n",
       "      <td>82.550</td>\n",
       "      <td>1.60076</td>\n",
       "      <td>1.05210</td>\n",
       "      <td>142.45</td>\n",
       "      <td>...</td>\n",
       "      <td>0.990050</td>\n",
       "      <td>46.6808</td>\n",
       "      <td>6.375</td>\n",
       "      <td>1.62722</td>\n",
       "      <td>5.36196</td>\n",
       "      <td>1.94250</td>\n",
       "      <td>1.7357</td>\n",
       "      <td>2.05875</td>\n",
       "      <td>734.067</td>\n",
       "      <td>117.254</td>\n",
       "    </tr>\n",
       "    <tr>\n",
       "      <th>2</th>\n",
       "      <td>03-01-2001</td>\n",
       "      <td>46.700</td>\n",
       "      <td>58.15</td>\n",
       "      <td>8.27772</td>\n",
       "      <td>0.305474</td>\n",
       "      <td>3.673</td>\n",
       "      <td>82.650</td>\n",
       "      <td>1.63058</td>\n",
       "      <td>1.07656</td>\n",
       "      <td>140.84</td>\n",
       "      <td>...</td>\n",
       "      <td>0.990050</td>\n",
       "      <td>46.6808</td>\n",
       "      <td>6.375</td>\n",
       "      <td>1.62722</td>\n",
       "      <td>5.30790</td>\n",
       "      <td>1.93005</td>\n",
       "      <td>1.7312</td>\n",
       "      <td>2.17830</td>\n",
       "      <td>734.067</td>\n",
       "      <td>116.266</td>\n",
       "    </tr>\n",
       "    <tr>\n",
       "      <th>3</th>\n",
       "      <td>04-01-2001</td>\n",
       "      <td>46.730</td>\n",
       "      <td>58.90</td>\n",
       "      <td>8.27852</td>\n",
       "      <td>0.305197</td>\n",
       "      <td>3.673</td>\n",
       "      <td>82.700</td>\n",
       "      <td>1.60628</td>\n",
       "      <td>1.05247</td>\n",
       "      <td>140.00</td>\n",
       "      <td>...</td>\n",
       "      <td>0.990050</td>\n",
       "      <td>46.6808</td>\n",
       "      <td>6.395</td>\n",
       "      <td>1.62722</td>\n",
       "      <td>5.31071</td>\n",
       "      <td>1.94190</td>\n",
       "      <td>1.7328</td>\n",
       "      <td>2.04624</td>\n",
       "      <td>734.067</td>\n",
       "      <td>116.511</td>\n",
       "    </tr>\n",
       "    <tr>\n",
       "      <th>4</th>\n",
       "      <td>05-01-2001</td>\n",
       "      <td>46.705</td>\n",
       "      <td>59.10</td>\n",
       "      <td>8.27792</td>\n",
       "      <td>0.305093</td>\n",
       "      <td>3.673</td>\n",
       "      <td>83.125</td>\n",
       "      <td>1.59790</td>\n",
       "      <td>1.04390</td>\n",
       "      <td>140.65</td>\n",
       "      <td>...</td>\n",
       "      <td>0.990050</td>\n",
       "      <td>46.6808</td>\n",
       "      <td>6.375</td>\n",
       "      <td>1.62722</td>\n",
       "      <td>5.31636</td>\n",
       "      <td>1.95490</td>\n",
       "      <td>1.7345</td>\n",
       "      <td>2.04624</td>\n",
       "      <td>734.067</td>\n",
       "      <td>115.739</td>\n",
       "    </tr>\n",
       "  </tbody>\n",
       "</table>\n",
       "<p>5 rows × 36 columns</p>\n",
       "</div>"
      ],
      "text/plain": [
       "     End Date  USD/INR  USD/PKR  USD/CNY   USD/KWD  USD/AED  USD/LKR  USD/CHF  \\\n",
       "0  01-01-2001   46.665    57.85  8.27782  0.305600    3.673   82.840  1.61080   \n",
       "1  02-01-2001   46.690    58.65  8.27831  0.304877    3.673   82.550  1.60076   \n",
       "2  03-01-2001   46.700    58.15  8.27772  0.305474    3.673   82.650  1.63058   \n",
       "3  04-01-2001   46.730    58.90  8.27852  0.305197    3.673   82.700  1.60628   \n",
       "4  05-01-2001   46.705    59.10  8.27792  0.305093    3.673   83.125  1.59790   \n",
       "\n",
       "   USD/EUR  USD/ALL  ...   USD/BMD  USD/BTN  USD/BOB  USD/BAM  USD/BWP  \\\n",
       "0  1.06159   142.45  ...  0.985149  46.6808    6.375  1.62173  5.36482   \n",
       "1  1.05210   142.45  ...  0.990050  46.6808    6.375  1.62722  5.36196   \n",
       "2  1.07656   140.84  ...  0.990050  46.6808    6.375  1.62722  5.30790   \n",
       "3  1.05247   140.00  ...  0.990050  46.6808    6.395  1.62722  5.31071   \n",
       "4  1.04390   140.65  ...  0.990050  46.6808    6.375  1.62722  5.31636   \n",
       "\n",
       "   USD/BRL  USD/BND  USD/BGN  USD/BIF  USD/CVE  \n",
       "0  1.95000   1.7323  2.05875  734.067  118.514  \n",
       "1  1.94250   1.7357  2.05875  734.067  117.254  \n",
       "2  1.93005   1.7312  2.17830  734.067  116.266  \n",
       "3  1.94190   1.7328  2.04624  734.067  116.511  \n",
       "4  1.95490   1.7345  2.04624  734.067  115.739  \n",
       "\n",
       "[5 rows x 36 columns]"
      ]
     },
     "execution_count": 2,
     "metadata": {},
     "output_type": "execute_result"
    }
   ],
   "source": [
    "data=pd.read_csv('CRPD.csv')\n",
    "data.head()"
   ]
  },
  {
   "cell_type": "code",
   "execution_count": 3,
   "metadata": {},
   "outputs": [
    {
     "data": {
      "text/html": [
       "<div>\n",
       "<style scoped>\n",
       "    .dataframe tbody tr th:only-of-type {\n",
       "        vertical-align: middle;\n",
       "    }\n",
       "\n",
       "    .dataframe tbody tr th {\n",
       "        vertical-align: top;\n",
       "    }\n",
       "\n",
       "    .dataframe thead th {\n",
       "        text-align: right;\n",
       "    }\n",
       "</style>\n",
       "<table border=\"1\" class=\"dataframe\">\n",
       "  <thead>\n",
       "    <tr style=\"text-align: right;\">\n",
       "      <th></th>\n",
       "      <th>USD/INR</th>\n",
       "      <th>USD/PKR</th>\n",
       "      <th>USD/CNY</th>\n",
       "      <th>USD/LKR</th>\n",
       "      <th>USD/ALL</th>\n",
       "      <th>USD/AOA</th>\n",
       "      <th>USD/AMD</th>\n",
       "      <th>USD/BDT</th>\n",
       "      <th>USD/XOF</th>\n",
       "      <th>USD/BTN</th>\n",
       "      <th>USD/CVE</th>\n",
       "    </tr>\n",
       "  </thead>\n",
       "  <tbody>\n",
       "    <tr>\n",
       "      <th>0</th>\n",
       "      <td>0.581069</td>\n",
       "      <td>0.120128</td>\n",
       "      <td>0.833588</td>\n",
       "      <td>0.012661</td>\n",
       "      <td>0.863819</td>\n",
       "      <td>0.0</td>\n",
       "      <td>1.000000</td>\n",
       "      <td>0.011076</td>\n",
       "      <td>0.721720</td>\n",
       "      <td>0.459349</td>\n",
       "      <td>0.904779</td>\n",
       "    </tr>\n",
       "    <tr>\n",
       "      <th>1</th>\n",
       "      <td>0.585451</td>\n",
       "      <td>0.209733</td>\n",
       "      <td>0.870992</td>\n",
       "      <td>0.000000</td>\n",
       "      <td>0.863819</td>\n",
       "      <td>0.0</td>\n",
       "      <td>1.000000</td>\n",
       "      <td>0.011076</td>\n",
       "      <td>0.690945</td>\n",
       "      <td>0.459349</td>\n",
       "      <td>0.874320</td>\n",
       "    </tr>\n",
       "    <tr>\n",
       "      <th>2</th>\n",
       "      <td>0.587204</td>\n",
       "      <td>0.153730</td>\n",
       "      <td>0.825954</td>\n",
       "      <td>0.004366</td>\n",
       "      <td>0.836583</td>\n",
       "      <td>0.0</td>\n",
       "      <td>1.000000</td>\n",
       "      <td>0.011076</td>\n",
       "      <td>0.743511</td>\n",
       "      <td>0.459349</td>\n",
       "      <td>0.850436</td>\n",
       "    </tr>\n",
       "    <tr>\n",
       "      <th>3</th>\n",
       "      <td>0.592463</td>\n",
       "      <td>0.237735</td>\n",
       "      <td>0.887023</td>\n",
       "      <td>0.006549</td>\n",
       "      <td>0.822373</td>\n",
       "      <td>0.0</td>\n",
       "      <td>1.000000</td>\n",
       "      <td>0.011076</td>\n",
       "      <td>0.692065</td>\n",
       "      <td>0.459349</td>\n",
       "      <td>0.856359</td>\n",
       "    </tr>\n",
       "    <tr>\n",
       "      <th>4</th>\n",
       "      <td>0.588081</td>\n",
       "      <td>0.260137</td>\n",
       "      <td>0.841221</td>\n",
       "      <td>0.025104</td>\n",
       "      <td>0.833369</td>\n",
       "      <td>0.0</td>\n",
       "      <td>1.000000</td>\n",
       "      <td>0.011076</td>\n",
       "      <td>0.673330</td>\n",
       "      <td>0.459349</td>\n",
       "      <td>0.837697</td>\n",
       "    </tr>\n",
       "    <tr>\n",
       "      <th>...</th>\n",
       "      <td>...</td>\n",
       "      <td>...</td>\n",
       "      <td>...</td>\n",
       "      <td>...</td>\n",
       "      <td>...</td>\n",
       "      <td>...</td>\n",
       "      <td>...</td>\n",
       "      <td>...</td>\n",
       "      <td>...</td>\n",
       "      <td>...</td>\n",
       "      <td>...</td>\n",
       "    </tr>\n",
       "    <tr>\n",
       "      <th>1494</th>\n",
       "      <td>0.000000</td>\n",
       "      <td>0.291499</td>\n",
       "      <td>0.732824</td>\n",
       "      <td>0.730998</td>\n",
       "      <td>0.091732</td>\n",
       "      <td>1.0</td>\n",
       "      <td>0.558622</td>\n",
       "      <td>0.984924</td>\n",
       "      <td>0.083101</td>\n",
       "      <td>0.081724</td>\n",
       "      <td>0.094290</td>\n",
       "    </tr>\n",
       "    <tr>\n",
       "      <th>1495</th>\n",
       "      <td>0.000000</td>\n",
       "      <td>0.297099</td>\n",
       "      <td>0.732824</td>\n",
       "      <td>0.730932</td>\n",
       "      <td>0.093457</td>\n",
       "      <td>1.0</td>\n",
       "      <td>0.560568</td>\n",
       "      <td>0.977048</td>\n",
       "      <td>0.083365</td>\n",
       "      <td>0.081724</td>\n",
       "      <td>0.081659</td>\n",
       "    </tr>\n",
       "    <tr>\n",
       "      <th>1496</th>\n",
       "      <td>0.000000</td>\n",
       "      <td>0.307572</td>\n",
       "      <td>0.732824</td>\n",
       "      <td>0.731281</td>\n",
       "      <td>0.098346</td>\n",
       "      <td>1.0</td>\n",
       "      <td>0.563306</td>\n",
       "      <td>1.000000</td>\n",
       "      <td>0.083365</td>\n",
       "      <td>0.081724</td>\n",
       "      <td>0.087812</td>\n",
       "    </tr>\n",
       "    <tr>\n",
       "      <th>1497</th>\n",
       "      <td>0.000000</td>\n",
       "      <td>0.307572</td>\n",
       "      <td>0.732824</td>\n",
       "      <td>0.731281</td>\n",
       "      <td>0.098346</td>\n",
       "      <td>1.0</td>\n",
       "      <td>0.581394</td>\n",
       "      <td>1.000000</td>\n",
       "      <td>0.083365</td>\n",
       "      <td>0.081724</td>\n",
       "      <td>0.087812</td>\n",
       "    </tr>\n",
       "    <tr>\n",
       "      <th>1498</th>\n",
       "      <td>0.017528</td>\n",
       "      <td>0.298219</td>\n",
       "      <td>0.732824</td>\n",
       "      <td>0.737241</td>\n",
       "      <td>0.112920</td>\n",
       "      <td>1.0</td>\n",
       "      <td>0.580313</td>\n",
       "      <td>0.977232</td>\n",
       "      <td>0.108378</td>\n",
       "      <td>0.081724</td>\n",
       "      <td>0.116748</td>\n",
       "    </tr>\n",
       "  </tbody>\n",
       "</table>\n",
       "<p>1499 rows × 11 columns</p>\n",
       "</div>"
      ],
      "text/plain": [
       "       USD/INR   USD/PKR   USD/CNY   USD/LKR   USD/ALL  USD/AOA   USD/AMD  \\\n",
       "0     0.581069  0.120128  0.833588  0.012661  0.863819      0.0  1.000000   \n",
       "1     0.585451  0.209733  0.870992  0.000000  0.863819      0.0  1.000000   \n",
       "2     0.587204  0.153730  0.825954  0.004366  0.836583      0.0  1.000000   \n",
       "3     0.592463  0.237735  0.887023  0.006549  0.822373      0.0  1.000000   \n",
       "4     0.588081  0.260137  0.841221  0.025104  0.833369      0.0  1.000000   \n",
       "...        ...       ...       ...       ...       ...      ...       ...   \n",
       "1494  0.000000  0.291499  0.732824  0.730998  0.091732      1.0  0.558622   \n",
       "1495  0.000000  0.297099  0.732824  0.730932  0.093457      1.0  0.560568   \n",
       "1496  0.000000  0.307572  0.732824  0.731281  0.098346      1.0  0.563306   \n",
       "1497  0.000000  0.307572  0.732824  0.731281  0.098346      1.0  0.581394   \n",
       "1498  0.017528  0.298219  0.732824  0.737241  0.112920      1.0  0.580313   \n",
       "\n",
       "       USD/BDT   USD/XOF   USD/BTN   USD/CVE  \n",
       "0     0.011076  0.721720  0.459349  0.904779  \n",
       "1     0.011076  0.690945  0.459349  0.874320  \n",
       "2     0.011076  0.743511  0.459349  0.850436  \n",
       "3     0.011076  0.692065  0.459349  0.856359  \n",
       "4     0.011076  0.673330  0.459349  0.837697  \n",
       "...        ...       ...       ...       ...  \n",
       "1494  0.984924  0.083101  0.081724  0.094290  \n",
       "1495  0.977048  0.083365  0.081724  0.081659  \n",
       "1496  1.000000  0.083365  0.081724  0.087812  \n",
       "1497  1.000000  0.083365  0.081724  0.087812  \n",
       "1498  0.977232  0.108378  0.081724  0.116748  \n",
       "\n",
       "[1499 rows x 11 columns]"
      ]
     },
     "execution_count": 3,
     "metadata": {},
     "output_type": "execute_result"
    }
   ],
   "source": [
    "from sklearn.preprocessing import MinMaxScaler\n",
    "scaler = MinMaxScaler()\n",
    "num_vars = ['USD/INR','USD/PKR','USD/CNY','USD/LKR','USD/ALL','USD/AOA','USD/AMD','USD/BDT','USD/XOF','USD/BTN','USD/CVE']\n",
    "data[num_vars] = scaler.fit_transform(data[num_vars])\n",
    "data[num_vars]"
   ]
  },
  {
   "cell_type": "code",
   "execution_count": 4,
   "metadata": {},
   "outputs": [],
   "source": [
    "x=data.drop(['End Date','USD/KWD','USD/AED','USD/CHF','USD/EUR','USD/DZD','USD/XCD','USD/ARS','USD/AWG','USD/SHP','USD/AUD',\n",
    "'USD/AZN','USD/BSD','USD/BHD','USD/BBD','USD/BYN','USD/BZD','USD/BMD','USD/BOB','USD/BAM','USD/BWP','USD/BRL',\n",
    "'USD/BND','USD/BGN','USD/BIF','USD/INR'],axis=1)\n",
    "y=data['USD/INR']\n",
    "xtrain,xtest,ytrain,ytest=train_test_split(x,y,test_size=0.25,random_state=100)"
   ]
  },
  {
   "cell_type": "code",
   "execution_count": 5,
   "metadata": {},
   "outputs": [
    {
     "data": {
      "image/png": "[encoded data removed]",
      "text/plain": [
       "<Figure size 288x288 with 1 Axes>"
      ]
     },
     "metadata": {
      "needs_background": "light"
     },
     "output_type": "display_data"
    }
   ],
   "source": [
    "import matplotlib.pyplot as plt\n",
    "plt.matshow(data.corr())\n",
    "plt.show()"
   ]
  },
  {
   "cell_type": "code",
   "execution_count": 19,
   "metadata": {},
   "outputs": [
    {
     "data": {
      "text/plain": [
       "<AxesSubplot:ylabel='Frequency'>"
      ]
     },
     "execution_count": 19,
     "metadata": {},
     "output_type": "execute_result"
    },
    {
     "data": {
      "image/png": "[encoded data removed]",
      "text/plain": [
       "<Figure size 432x288 with 1 Axes>"
      ]
     },
     "metadata": {
      "needs_background": "light"
     },
     "output_type": "display_data"
    }
   ],
   "source": [
    "data['USD/INR'].plot(kind='hist')"
   ]
  },
  {
   "cell_type": "code",
   "execution_count": 20,
   "metadata": {},
   "outputs": [
    {
     "data": {
      "text/plain": [
       "<AxesSubplot:ylabel='Frequency'>"
      ]
     },
     "execution_count": 20,
     "metadata": {},
     "output_type": "execute_result"
    },
    {
     "data": {
      "image/png": "[encoded data removed]",
      "text/plain": [
       "<Figure size 432x288 with 1 Axes>"
      ]
     },
     "metadata": {
      "needs_background": "light"
     },
     "output_type": "display_data"
    }
   ],
   "source": [
    "data['USD/PKR'].plot(kind='hist')"
   ]
  },
  {
   "cell_type": "code",
   "execution_count": 21,
   "metadata": {},
   "outputs": [
    {
     "data": {
      "text/plain": [
       "<AxesSubplot:ylabel='Frequency'>"
      ]
     },
     "execution_count": 21,
     "metadata": {},
     "output_type": "execute_result"
    },
    {
     "data": {
      "image/png": "[encoded data removed]",
      "text/plain": [
       "<Figure size 432x288 with 1 Axes>"
      ]
     },
     "metadata": {
      "needs_background": "light"
     },
     "output_type": "display_data"
    }
   ],
   "source": [
    "data['USD/CNY'].plot(kind='hist')"
   ]
  },
  {
   "cell_type": "code",
   "execution_count": 22,
   "metadata": {},
   "outputs": [
    {
     "data": {
      "text/plain": [
       "<AxesSubplot:ylabel='Frequency'>"
      ]
     },
     "execution_count": 22,
     "metadata": {},
     "output_type": "execute_result"
    },
    {
     "data": {
      "image/png": "[encoded data removed]",
      "text/plain": [
       "<Figure size 432x288 with 1 Axes>"
      ]
     },
     "metadata": {
      "needs_background": "light"
     },
     "output_type": "display_data"
    }
   ],
   "source": [
    "data['USD/LKR'].plot(kind='hist')"
   ]
  },
  {
   "cell_type": "code",
   "execution_count": 23,
   "metadata": {},
   "outputs": [
    {
     "data": {
      "text/plain": [
       "<AxesSubplot:ylabel='Frequency'>"
      ]
     },
     "execution_count": 23,
     "metadata": {},
     "output_type": "execute_result"
    },
    {
     "data": {
      "image/png": "[encoded data removed]",
      "text/plain": [
       "<Figure size 432x288 with 1 Axes>"
      ]
     },
     "metadata": {
      "needs_background": "light"
     },
     "output_type": "display_data"
    }
   ],
   "source": [
    "data['USD/ALL'].plot(kind='hist')"
   ]
  },
  {
   "cell_type": "code",
   "execution_count": 24,
   "metadata": {},
   "outputs": [
    {
     "data": {
      "text/plain": [
       "<AxesSubplot:ylabel='Frequency'>"
      ]
     },
     "execution_count": 24,
     "metadata": {},
     "output_type": "execute_result"
    },
    {
     "data": {
      "image/png": "[encoded data removed]",
      "text/plain": [
       "<Figure size 432x288 with 1 Axes>"
      ]
     },
     "metadata": {
      "needs_background": "light"
     },
     "output_type": "display_data"
    }
   ],
   "source": [
    "data['USD/AOA'].plot(kind='hist')"
   ]
  },
  {
   "cell_type": "code",
   "execution_count": 25,
   "metadata": {},
   "outputs": [
    {
     "data": {
      "text/plain": [
       "<AxesSubplot:ylabel='Frequency'>"
      ]
     },
     "execution_count": 25,
     "metadata": {},
     "output_type": "execute_result"
    },
    {
     "data": {
      "image/png": "[encoded data removed]",
      "text/plain": [
       "<Figure size 432x288 with 1 Axes>"
      ]
     },
     "metadata": {
      "needs_background": "light"
     },
     "output_type": "display_data"
    }
   ],
   "source": [
    "data['USD/AMD'].plot(kind='hist')"
   ]
  },
  {
   "cell_type": "code",
   "execution_count": 26,
   "metadata": {},
   "outputs": [
    {
     "data": {
      "text/plain": [
       "<AxesSubplot:ylabel='Frequency'>"
      ]
     },
     "execution_count": 26,
     "metadata": {},
     "output_type": "execute_result"
    },
    {
     "data": {
      "image/png": "[encoded data removed]",
      "text/plain": [
       "<Figure size 432x288 with 1 Axes>"
      ]
     },
     "metadata": {
      "needs_background": "light"
     },
     "output_type": "display_data"
    }
   ],
   "source": [
    "data['USD/BDT'].plot(kind='hist')"
   ]
  },
  {
   "cell_type": "code",
   "execution_count": 27,
   "metadata": {},
   "outputs": [
    {
     "data": {
      "text/plain": [
       "<AxesSubplot:ylabel='Frequency'>"
      ]
     },
     "execution_count": 27,
     "metadata": {},
     "output_type": "execute_result"
    },
    {
     "data": {
      "image/png": "[encoded data removed]",
      "text/plain": [
       "<Figure size 432x288 with 1 Axes>"
      ]
     },
     "metadata": {
      "needs_background": "light"
     },
     "output_type": "display_data"
    }
   ],
   "source": [
    "data['USD/XOF'].plot(kind='hist')"
   ]
  },
  {
   "cell_type": "code",
   "execution_count": 28,
   "metadata": {},
   "outputs": [
    {
     "data": {
      "text/plain": [
       "<AxesSubplot:ylabel='Frequency'>"
      ]
     },
     "execution_count": 28,
     "metadata": {},
     "output_type": "execute_result"
    },
    {
     "data": {
      "image/png": "[encoded data removed]",
      "text/plain": [
       "<Figure size 432x288 with 1 Axes>"
      ]
     },
     "metadata": {
      "needs_background": "light"
     },
     "output_type": "display_data"
    }
   ],
   "source": [
    "data['USD/BTN'].plot(kind='hist')"
   ]
  },
  {
   "cell_type": "code",
   "execution_count": 29,
   "metadata": {},
   "outputs": [
    {
     "data": {
      "text/plain": [
       "<AxesSubplot:ylabel='Frequency'>"
      ]
     },
     "execution_count": 29,
     "metadata": {},
     "output_type": "execute_result"
    },
    {
     "data": {
      "image/png": "[encoded data removed]",
      "text/plain": [
       "<Figure size 432x288 with 1 Axes>"
      ]
     },
     "metadata": {
      "needs_background": "light"
     },
     "output_type": "display_data"
    }
   ],
   "source": [
    "data['USD/CVE'].plot(kind='hist')"
   ]
  },
  {
   "cell_type": "code",
   "execution_count": 7,
   "metadata": {},
   "outputs": [
    {
     "data": {
      "text/plain": [
       "(0.9111482386027954, 0.9228840412036743)"
      ]
     },
     "execution_count": 7,
     "metadata": {},
     "output_type": "execute_result"
    }
   ],
   "source": [
    "from sklearn.linear_model import LinearRegression\n",
    "linear_model = LinearRegression()\n",
    "linear_model.fit(xtrain, ytrain)\n",
    "ypred = linear_model.predict(xtest)\n",
    "linear_model.score(xtrain,ytrain), linear_model.score(xtest,ytest)"
   ]
  },
  {
   "cell_type": "code",
   "execution_count": 8,
   "metadata": {},
   "outputs": [
    {
     "data": {
      "text/plain": [
       "array([29.49923548])"
      ]
     },
     "execution_count": 8,
     "metadata": {},
     "output_type": "execute_result"
    }
   ],
   "source": [
    "linear_model.score(xtrain,ytrain), linear_model.score(xtest,ytest)\n",
    "linear_model.predict([[52, 32, 10, 31, 12, 12, 21, 52, 12, 34]])"
   ]
  },
  {
   "cell_type": "code",
   "execution_count": 9,
   "metadata": {},
   "outputs": [
    {
     "name": "stdout",
     "output_type": "stream",
     "text": [
      "Root mean square error 0.07147930149633294\n",
      "Mean square error 0.005109290542403664\n",
      "Mean absolute error 0.052040102875602505\n"
     ]
    }
   ],
   "source": [
    "rmse = math.sqrt(mean_squared_error(ytest, ypred)) \n",
    "print('Root mean square error', rmse) \n",
    "mse = (mean_squared_error(ytest, ypred)) \n",
    "print('Mean square error', mse) \n",
    "mae=mean_absolute_error(ytest, ypred)\n",
    "print('Mean absolute error', mae)"
   ]
  },
  {
   "cell_type": "code",
   "execution_count": 10,
   "metadata": {},
   "outputs": [
    {
     "data": {
      "text/plain": [
       "(0.9999889773884811, 0.9835861208661749)"
      ]
     },
     "execution_count": 10,
     "metadata": {},
     "output_type": "execute_result"
    }
   ],
   "source": [
    "from sklearn.tree import DecisionTreeRegressor\n",
    "decision_model = DecisionTreeRegressor()\n",
    "decision_model.fit(xtrain, ytrain)\n",
    "decision_model.score(xtrain,ytrain), decision_model.score(xtest,ytest)"
   ]
  },
  {
   "cell_type": "code",
   "execution_count": 11,
   "metadata": {},
   "outputs": [
    {
     "name": "stdout",
     "output_type": "stream",
     "text": [
      "Root mean square error 0.07147930149633294\n",
      "Mean square error 0.005109290542403664\n",
      "Mean absolute error 0.052040102875602505\n"
     ]
    }
   ],
   "source": [
    "rmse = math.sqrt(mean_squared_error(ytest, ypred)) \n",
    "print('Root mean square error', rmse) \n",
    "mse = (mean_squared_error(ytest, ypred)) \n",
    "print('Mean square error', mse) \n",
    "mae=mean_absolute_error(ytest, ypred)\n",
    "print('Mean absolute error', mae)"
   ]
  },
  {
   "cell_type": "code",
   "execution_count": 12,
   "metadata": {},
   "outputs": [
    {
     "data": {
      "text/plain": [
       "array([0.9964943])"
      ]
     },
     "execution_count": 12,
     "metadata": {},
     "output_type": "execute_result"
    }
   ],
   "source": [
    "decision_model.predict([[52, 32, 10, 31, 12, 12, 21, 52, 12, 34]])"
   ]
  },
  {
   "cell_type": "code",
   "execution_count": 13,
   "metadata": {},
   "outputs": [
    {
     "data": {
      "text/plain": [
       "(0.9987116339864226, 0.9899048057694819)"
      ]
     },
     "execution_count": 13,
     "metadata": {},
     "output_type": "execute_result"
    }
   ],
   "source": [
    "from sklearn.ensemble import RandomForestRegressor\n",
    "RandomForest = RandomForestRegressor(n_estimators=100,random_state=0,max_depth=50)\n",
    "RandomForest.fit(xtrain, ytrain)\n",
    "RandomForest.score(xtrain,ytrain), RandomForest.score(xtest,ytest)"
   ]
  },
  {
   "cell_type": "code",
   "execution_count": 14,
   "metadata": {},
   "outputs": [
    {
     "data": {
      "text/plain": [
       "array([0.92716784])"
      ]
     },
     "execution_count": 14,
     "metadata": {},
     "output_type": "execute_result"
    }
   ],
   "source": [
    "RandomForest.predict([[52, 32, 10, 31, 12, 12, 21, 52, 12, 34]])"
   ]
  },
  {
   "cell_type": "code",
   "execution_count": 15,
   "metadata": {},
   "outputs": [
    {
     "name": "stdout",
     "output_type": "stream",
     "text": [
      "Root mean square error 0.07147930149633294\n",
      "Mean square error 0.005109290542403664\n",
      "Mean absolute error 0.052040102875602505\n"
     ]
    }
   ],
   "source": [
    "rmse = math.sqrt(mean_squared_error(ytest, ypred)) \n",
    "print('Root mean square error', rmse) \n",
    "mse = (mean_squared_error(ytest, ypred)) \n",
    "print('Mean square error', mse) \n",
    "mae=mean_absolute_error(ytest, ypred)\n",
    "print('Mean absolute error', mae)"
   ]
  },
  {
   "cell_type": "code",
   "execution_count": 16,
   "metadata": {},
   "outputs": [
    {
     "data": {
      "text/html": [
       "<div>\n",
       "<style scoped>\n",
       "    .dataframe tbody tr th:only-of-type {\n",
       "        vertical-align: middle;\n",
       "    }\n",
       "\n",
       "    .dataframe tbody tr th {\n",
       "        vertical-align: top;\n",
       "    }\n",
       "\n",
       "    .dataframe thead th {\n",
       "        text-align: right;\n",
       "    }\n",
       "</style>\n",
       "<table border=\"1\" class=\"dataframe\">\n",
       "  <thead>\n",
       "    <tr style=\"text-align: right;\">\n",
       "      <th></th>\n",
       "      <th>Actual</th>\n",
       "      <th>Predicted</th>\n",
       "    </tr>\n",
       "  </thead>\n",
       "  <tbody>\n",
       "    <tr>\n",
       "      <th>1139</th>\n",
       "      <td>0.337423</td>\n",
       "      <td>0.343272</td>\n",
       "    </tr>\n",
       "    <tr>\n",
       "      <th>1080</th>\n",
       "      <td>0.381245</td>\n",
       "      <td>0.337885</td>\n",
       "    </tr>\n",
       "    <tr>\n",
       "      <th>1159</th>\n",
       "      <td>0.336547</td>\n",
       "      <td>0.259865</td>\n",
       "    </tr>\n",
       "    <tr>\n",
       "      <th>995</th>\n",
       "      <td>0.423313</td>\n",
       "      <td>0.430861</td>\n",
       "    </tr>\n",
       "    <tr>\n",
       "      <th>356</th>\n",
       "      <td>0.786240</td>\n",
       "      <td>0.817685</td>\n",
       "    </tr>\n",
       "    <tr>\n",
       "      <th>...</th>\n",
       "      <td>...</td>\n",
       "      <td>...</td>\n",
       "    </tr>\n",
       "    <tr>\n",
       "      <th>1126</th>\n",
       "      <td>0.335670</td>\n",
       "      <td>0.336891</td>\n",
       "    </tr>\n",
       "    <tr>\n",
       "      <th>527</th>\n",
       "      <td>0.990272</td>\n",
       "      <td>0.993240</td>\n",
       "    </tr>\n",
       "    <tr>\n",
       "      <th>871</th>\n",
       "      <td>0.624628</td>\n",
       "      <td>0.587098</td>\n",
       "    </tr>\n",
       "    <tr>\n",
       "      <th>267</th>\n",
       "      <td>0.790535</td>\n",
       "      <td>0.731790</td>\n",
       "    </tr>\n",
       "    <tr>\n",
       "      <th>137</th>\n",
       "      <td>0.627520</td>\n",
       "      <td>0.780494</td>\n",
       "    </tr>\n",
       "  </tbody>\n",
       "</table>\n",
       "<p>375 rows × 2 columns</p>\n",
       "</div>"
      ],
      "text/plain": [
       "        Actual  Predicted\n",
       "1139  0.337423   0.343272\n",
       "1080  0.381245   0.337885\n",
       "1159  0.336547   0.259865\n",
       "995   0.423313   0.430861\n",
       "356   0.786240   0.817685\n",
       "...        ...        ...\n",
       "1126  0.335670   0.336891\n",
       "527   0.990272   0.993240\n",
       "871   0.624628   0.587098\n",
       "267   0.790535   0.731790\n",
       "137   0.627520   0.780494\n",
       "\n",
       "[375 rows x 2 columns]"
      ]
     },
     "execution_count": 16,
     "metadata": {},
     "output_type": "execute_result"
    }
   ],
   "source": [
    "df=pd.DataFrame({'Actual':ytest, 'Predicted':ypred})\n",
    "df"
   ]
  },
  {
   "cell_type": "code",
   "execution_count": 17,
   "metadata": {},
   "outputs": [],
   "source": [
    "import pickle\n"
   ]
  },
  {
   "cell_type": "code",
   "execution_count": 18,
   "metadata": {},
   "outputs": [],
   "source": [
    "pickle.dump(linear_model,open('linear_model.pkl','wb'))"
   ]
  }
 ],
 "metadata": {
  "interpreter": {
   "hash": "543d3fb5758e438c74c622c452b5cbaad04426331691c9d19db1100ce4325ba9"
  },
  "kernelspec": {
   "display_name": "Python 3.9.7 64-bit",
   "language": "python",
   "name": "python3"
  },
  "language_info": {
   "codemirror_mode": {
    "name": "ipython",
    "version": 3
   },
   "file_extension": ".py",
   "mimetype": "text/x-python",
   "name": "python",
   "nbconvert_exporter": "python",
   "pygments_lexer": "ipython3",
   "version": "3.9.7"
  },
  "orig_nbformat": 4
 },
 "nbformat": 4,
 "nbformat_minor": 2
}
