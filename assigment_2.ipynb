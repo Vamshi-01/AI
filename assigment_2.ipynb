{
  "nbformat": 4,
  "nbformat_minor": 0,
  "metadata": {
    "colab": {
      "name": "assigment_2.ipynb",
      "provenance": [],
      "authorship_tag": "ABX9TyOWFOXJRDtCu9rou5qMEtSA",
      "include_colab_link": true
    },
    "kernelspec": {
      "name": "python3",
      "display_name": "Python 3"
    },
    "language_info": {
      "name": "python"
    }
  },
  "cells": [
    {
      "cell_type": "markdown",
      "metadata": {
        "id": "view-in-github",
        "colab_type": "text"
      },
      "source": [
        "<a href=\"https://colab.research.google.com/github/Vamshi-01/AI/blob/main/assigment_2.ipynb\" target=\"_parent\"><img src=\"https://colab.research.google.com/assets/colab-badge.svg\" alt=\"Open In Colab\"/></a>"
      ]
    },
    {
      "cell_type": "code",
      "metadata": {
        "id": "jxqdNL5K-B9O"
      },
      "source": [
        ""
      ],
      "execution_count": null,
      "outputs": []
    },
    {
      "cell_type": "code",
      "metadata": {
        "colab": {
          "base_uri": "https://localhost:8080/"
        },
        "id": "i7gPCdsv-Cs6",
        "outputId": "87c68888-5e53-44c8-b22e-aa56fc61a0d2"
      },
      "source": [
        "import numpy as np\n",
        "x=np.random.uniform(-10,10)\n",
        "eta=0.001\n",
        "iter_max=1000\n",
        "iter=1\n",
        "while iter<=iter_max:\n",
        "  slope=4*x*x*x + 6*x\n",
        "  step_length=-eta*slope\n",
        "  x=x+step_length\n",
        "  iter=iter+1\n",
        "print(\"value of x :\",round(x))\n",
        "obj=x*x*x*x+3*x*x+10\n",
        "print(\"objective function =\",obj)"
      ],
      "execution_count": null,
      "outputs": [
        {
          "output_type": "stream",
          "name": "stdout",
          "text": [
            "value of x : 0\n",
            "objective function = 10.000000112952351\n"
          ]
        }
      ]
    }
  ]
}