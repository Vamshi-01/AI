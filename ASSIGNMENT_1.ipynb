{
  "nbformat": 4,
  "nbformat_minor": 0,
  "metadata": {
    "colab": {
      "name": "ASSIGNMENT-1.ipynb",
      "provenance": [],
      "authorship_tag": "ABX9TyNFxbk4MlO9Z8klqTRu+5iD",
      "include_colab_link": true
    },
    "kernelspec": {
      "name": "python3",
      "display_name": "Python 3"
    },
    "language_info": {
      "name": "python"
    }
  },
  "cells": [
    {
      "cell_type": "markdown",
      "metadata": {
        "id": "view-in-github",
        "colab_type": "text"
      },
      "source": [
        "<a href=\"https://colab.research.google.com/github/Vamshi-01/AI/blob/main/ASSIGNMENT_1.ipynb\" target=\"_parent\"><img src=\"https://colab.research.google.com/assets/colab-badge.svg\" alt=\"Open In Colab\"/></a>"
      ]
    },
    {
      "cell_type": "code",
      "metadata": {
        "colab": {
          "base_uri": "https://localhost:8080/"
        },
        "id": "oqnvExdvwx5J",
        "outputId": "e6c1adc3-eecd-41b0-a6fb-4cf1fd87627f"
      },
      "source": [
        "from scipy.optimize import linprog\n",
        "obj=[-50,-120]\n",
        "A_ieq=[[7000,2000],[10,30],[1,1]]\n",
        "b_ieq=[700000,1200,110]\n",
        "limit=[(0,float('inf')),(0,float('inf'))]\n",
        "opt=linprog(c=obj,A_ub=A_ieq,b_ub=b_ieq,A_eq=None,b_eq=None,bounds=limit,method=\"simplex\")\n",
        "opt.x\n",
        "print('Wheat in hectares : ',round(opt.x[0]))\n",
        "print('Barley in hectares : ',round(opt.x[1]))\n",
        "print('The maximum profit is : ',(50*(round(opt.x[0]))+120*(round(opt.x[1]))))"
      ],
      "execution_count": 2,
      "outputs": [
        {
          "output_type": "stream",
          "text": [
            "Wheat in hectares :  98\n",
            "Barley in hectares :  7\n",
            "The maximum profit is :  5740\n"
          ],
          "name": "stdout"
        }
      ]
    }
  ]
}